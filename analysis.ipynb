{
 "cells": [
  {
   "cell_type": "code",
   "execution_count": 55,
   "metadata": {},
   "outputs": [
    {
     "data": {
      "text/html": [
       "<div>\n",
       "<style scoped>\n",
       "    .dataframe tbody tr th:only-of-type {\n",
       "        vertical-align: middle;\n",
       "    }\n",
       "\n",
       "    .dataframe tbody tr th {\n",
       "        vertical-align: top;\n",
       "    }\n",
       "\n",
       "    .dataframe thead th {\n",
       "        text-align: right;\n",
       "    }\n",
       "</style>\n",
       "<table border=\"1\" class=\"dataframe\">\n",
       "  <thead>\n",
       "    <tr style=\"text-align: right;\">\n",
       "      <th></th>\n",
       "      <th>Approach1</th>\n",
       "      <th>Approach2</th>\n",
       "    </tr>\n",
       "  </thead>\n",
       "  <tbody>\n",
       "    <tr>\n",
       "      <th>count</th>\n",
       "      <td>1000.000000</td>\n",
       "      <td>1000.000000</td>\n",
       "    </tr>\n",
       "    <tr>\n",
       "      <th>mean</th>\n",
       "      <td>3.591960</td>\n",
       "      <td>3.608784</td>\n",
       "    </tr>\n",
       "    <tr>\n",
       "      <th>std</th>\n",
       "      <td>1.322007</td>\n",
       "      <td>1.337360</td>\n",
       "    </tr>\n",
       "    <tr>\n",
       "      <th>min</th>\n",
       "      <td>0.550689</td>\n",
       "      <td>0.550689</td>\n",
       "    </tr>\n",
       "    <tr>\n",
       "      <th>25%</th>\n",
       "      <td>2.638595</td>\n",
       "      <td>2.639185</td>\n",
       "    </tr>\n",
       "    <tr>\n",
       "      <th>50%</th>\n",
       "      <td>3.465585</td>\n",
       "      <td>3.529782</td>\n",
       "    </tr>\n",
       "    <tr>\n",
       "      <th>75%</th>\n",
       "      <td>4.535270</td>\n",
       "      <td>4.553469</td>\n",
       "    </tr>\n",
       "    <tr>\n",
       "      <th>max</th>\n",
       "      <td>7.511504</td>\n",
       "      <td>7.217945</td>\n",
       "    </tr>\n",
       "  </tbody>\n",
       "</table>\n",
       "</div>"
      ],
      "text/plain": [
       "         Approach1    Approach2\n",
       "count  1000.000000  1000.000000\n",
       "mean      3.591960     3.608784\n",
       "std       1.322007     1.337360\n",
       "min       0.550689     0.550689\n",
       "25%       2.638595     2.639185\n",
       "50%       3.465585     3.529782\n",
       "75%       4.535270     4.553469\n",
       "max       7.511504     7.217945"
      ]
     },
     "execution_count": 55,
     "metadata": {},
     "output_type": "execute_result"
    }
   ],
   "source": [
    "import pandas as pd\n",
    "import numpy as np\n",
    "df_out = pd.read_csv ('output.csv')\n",
    "df_data = pd.read_csv('islanddata.csv')\n",
    "df_out.describe()"
   ]
  },
  {
   "cell_type": "code",
   "execution_count": 56,
   "metadata": {},
   "outputs": [
    {
     "data": {
      "text/html": [
       "<div>\n",
       "<style scoped>\n",
       "    .dataframe tbody tr th:only-of-type {\n",
       "        vertical-align: middle;\n",
       "    }\n",
       "\n",
       "    .dataframe tbody tr th {\n",
       "        vertical-align: top;\n",
       "    }\n",
       "\n",
       "    .dataframe thead th {\n",
       "        text-align: right;\n",
       "    }\n",
       "</style>\n",
       "<table border=\"1\" class=\"dataframe\">\n",
       "  <thead>\n",
       "    <tr style=\"text-align: right;\">\n",
       "      <th></th>\n",
       "      <th>x</th>\n",
       "      <th>y</th>\n",
       "    </tr>\n",
       "  </thead>\n",
       "  <tbody>\n",
       "    <tr>\n",
       "      <th>count</th>\n",
       "      <td>4000.000000</td>\n",
       "      <td>4000.000000</td>\n",
       "    </tr>\n",
       "    <tr>\n",
       "      <th>mean</th>\n",
       "      <td>-0.172086</td>\n",
       "      <td>0.260097</td>\n",
       "    </tr>\n",
       "    <tr>\n",
       "      <th>std</th>\n",
       "      <td>9.818042</td>\n",
       "      <td>9.964391</td>\n",
       "    </tr>\n",
       "    <tr>\n",
       "      <th>min</th>\n",
       "      <td>-19.804000</td>\n",
       "      <td>-19.978000</td>\n",
       "    </tr>\n",
       "    <tr>\n",
       "      <th>25%</th>\n",
       "      <td>-7.928000</td>\n",
       "      <td>-7.601750</td>\n",
       "    </tr>\n",
       "    <tr>\n",
       "      <th>50%</th>\n",
       "      <td>-0.094500</td>\n",
       "      <td>0.261500</td>\n",
       "    </tr>\n",
       "    <tr>\n",
       "      <th>75%</th>\n",
       "      <td>7.548250</td>\n",
       "      <td>8.393000</td>\n",
       "    </tr>\n",
       "    <tr>\n",
       "      <th>max</th>\n",
       "      <td>19.909000</td>\n",
       "      <td>19.886000</td>\n",
       "    </tr>\n",
       "  </tbody>\n",
       "</table>\n",
       "</div>"
      ],
      "text/plain": [
       "                 x            y\n",
       "count  4000.000000  4000.000000\n",
       "mean     -0.172086     0.260097\n",
       "std       9.818042     9.964391\n",
       "min     -19.804000   -19.978000\n",
       "25%      -7.928000    -7.601750\n",
       "50%      -0.094500     0.261500\n",
       "75%       7.548250     8.393000\n",
       "max      19.909000    19.886000"
      ]
     },
     "execution_count": 56,
     "metadata": {},
     "output_type": "execute_result"
    }
   ],
   "source": [
    "df_coords = pd.concat([df_data.iloc[:,i:i+2].set_axis(['x','y'],inplace=False,axis=1) for i in range(0,7,2)], ignore_index=True)\n",
    "df_coords.describe()"
   ]
  },
  {
   "cell_type": "markdown",
   "metadata": {},
   "source": [
    "Average distance from treasure"
   ]
  },
  {
   "cell_type": "code",
   "execution_count": 57,
   "metadata": {},
   "outputs": [
    {
     "data": {
      "text/plain": [
       "count    1000.000000\n",
       "mean       17.973803\n",
       "std         4.822840\n",
       "min         5.369796\n",
       "25%        14.396924\n",
       "50%        17.625627\n",
       "75%        21.188021\n",
       "max        33.268558\n",
       "dtype: float64"
      ]
     },
     "execution_count": 57,
     "metadata": {},
     "output_type": "execute_result"
    }
   ],
   "source": [
    "df_data.apply(lambda x:sum(np.linalg.norm(p - np.array([x[8],x[9]])) for p in np.reshape(x.iloc[0:8].array,(4,2)))/4, axis=1).describe()"
   ]
  },
  {
   "cell_type": "code",
   "execution_count": 58,
   "metadata": {},
   "outputs": [
    {
     "data": {
      "text/html": [
       "<div>\n",
       "<style scoped>\n",
       "    .dataframe tbody tr th:only-of-type {\n",
       "        vertical-align: middle;\n",
       "    }\n",
       "\n",
       "    .dataframe tbody tr th {\n",
       "        vertical-align: top;\n",
       "    }\n",
       "\n",
       "    .dataframe thead th {\n",
       "        text-align: right;\n",
       "    }\n",
       "</style>\n",
       "<table border=\"1\" class=\"dataframe\">\n",
       "  <thead>\n",
       "    <tr style=\"text-align: right;\">\n",
       "      <th></th>\n",
       "      <th>tx</th>\n",
       "      <th>ty</th>\n",
       "    </tr>\n",
       "  </thead>\n",
       "  <tbody>\n",
       "    <tr>\n",
       "      <th>count</th>\n",
       "      <td>1000.000000</td>\n",
       "      <td>1000.000000</td>\n",
       "    </tr>\n",
       "    <tr>\n",
       "      <th>mean</th>\n",
       "      <td>-0.195796</td>\n",
       "      <td>0.083585</td>\n",
       "    </tr>\n",
       "    <tr>\n",
       "      <th>std</th>\n",
       "      <td>10.205473</td>\n",
       "      <td>9.840308</td>\n",
       "    </tr>\n",
       "    <tr>\n",
       "      <th>min</th>\n",
       "      <td>-19.713000</td>\n",
       "      <td>-19.638000</td>\n",
       "    </tr>\n",
       "    <tr>\n",
       "      <th>25%</th>\n",
       "      <td>-8.158000</td>\n",
       "      <td>-7.968000</td>\n",
       "    </tr>\n",
       "    <tr>\n",
       "      <th>50%</th>\n",
       "      <td>-0.665000</td>\n",
       "      <td>0.581000</td>\n",
       "    </tr>\n",
       "    <tr>\n",
       "      <th>75%</th>\n",
       "      <td>8.457500</td>\n",
       "      <td>7.903500</td>\n",
       "    </tr>\n",
       "    <tr>\n",
       "      <th>max</th>\n",
       "      <td>19.826000</td>\n",
       "      <td>19.627000</td>\n",
       "    </tr>\n",
       "  </tbody>\n",
       "</table>\n",
       "</div>"
      ],
      "text/plain": [
       "                tx           ty\n",
       "count  1000.000000  1000.000000\n",
       "mean     -0.195796     0.083585\n",
       "std      10.205473     9.840308\n",
       "min     -19.713000   -19.638000\n",
       "25%      -8.158000    -7.968000\n",
       "50%      -0.665000     0.581000\n",
       "75%       8.457500     7.903500\n",
       "max      19.826000    19.627000"
      ]
     },
     "execution_count": 58,
     "metadata": {},
     "output_type": "execute_result"
    }
   ],
   "source": [
    "df_treasure = df_data.iloc[:,8:10]\n",
    "df_treasure.describe()"
   ]
  },
  {
   "cell_type": "code",
   "execution_count": 59,
   "metadata": {},
   "outputs": [
    {
     "data": {
      "text/plain": [
       "(-0.13344650536627475, 0.09979822831206372)"
      ]
     },
     "execution_count": 59,
     "metadata": {},
     "output_type": "execute_result"
    }
   ],
   "source": [
    "import statsmodels.stats.api as sm\n",
    "#confidence interval for the 2 approaches\n",
    "cm = sm.CompareMeans(sm.DescrStatsW(df_out[\"Approach1\"]), sm.DescrStatsW(df_out[\"Approach2\"]))\n",
    "cm.tconfint_diff(alpha=0.05,alternative='two-sided')"
   ]
  },
  {
   "cell_type": "code",
   "execution_count": 60,
   "metadata": {},
   "outputs": [
    {
     "name": "stdout",
     "output_type": "stream",
     "text": [
      "count    1000.000000\n",
      "mean        1.950851\n",
      "std         1.077926\n",
      "min         0.015556\n",
      "25%         1.132624\n",
      "50%         1.810468\n",
      "75%         2.615745\n",
      "max         5.839800\n",
      "dtype: float64\n"
     ]
    },
    {
     "data": {
      "text/plain": [
       "(1.5353229710843095, 1.7468958418085359)"
      ]
     },
     "execution_count": 60,
     "metadata": {},
     "output_type": "execute_result"
    }
   ],
   "source": [
    "#CI for Approach 1 vs \"oracle\"\n",
    "oracle = df_data.apply(lambda x:min(np.linalg.norm(p - np.array([x[8],x[9]])) for p in np.reshape(x.iloc[0:8].array,(4,2))), axis=1)/5\n",
    "print(oracle.describe())\n",
    "cm = sm.CompareMeans(sm.DescrStatsW(df_out[\"Approach1\"]), sm.DescrStatsW(oracle))\n",
    "cm.tconfint_diff(alpha=0.05,alternative='two-sided')"
   ]
  },
  {
   "cell_type": "code",
   "execution_count": 61,
   "metadata": {},
   "outputs": [
    {
     "name": "stdout",
     "output_type": "stream",
     "text": [
      "        Approach1   Approach2\n",
      "count  219.000000  219.000000\n",
      "mean     3.817156    3.893979\n",
      "std      1.339126    1.393186\n",
      "min      1.300673    0.825869\n",
      "25%      2.792432    2.851228\n",
      "50%      3.647820    3.898520\n",
      "75%      4.808893    4.867492\n",
      "max      7.511504    7.217945\n"
     ]
    },
    {
     "data": {
      "text/plain": [
       "(-0.33346802562295985, 0.1798229249188028)"
      ]
     },
     "execution_count": 61,
     "metadata": {},
     "output_type": "execute_result"
    }
   ],
   "source": [
    "df_uniq = df_out.query(\"Approach1 != Approach2\")\n",
    "print(df_uniq.describe())\n",
    "cm = sm.CompareMeans(sm.DescrStatsW(df_uniq[\"Approach1\"]), sm.DescrStatsW(df_uniq[\"Approach2\"]))\n",
    "cm.tconfint_diff(alpha=0.05,alternative='two-sided')"
   ]
  }
 ],
 "metadata": {
  "interpreter": {
   "hash": "de3ed55e9a5641a85ecb3e742d5d9f35dd13b81211a2d3a2029eaee0facecc11"
  },
  "kernelspec": {
   "display_name": "Python 3.9.7 64-bit",
   "language": "python",
   "name": "python3"
  },
  "language_info": {
   "codemirror_mode": {
    "name": "ipython",
    "version": 3
   },
   "file_extension": ".py",
   "mimetype": "text/x-python",
   "name": "python",
   "nbconvert_exporter": "python",
   "pygments_lexer": "ipython3",
   "version": "3.9.7"
  },
  "orig_nbformat": 4
 },
 "nbformat": 4,
 "nbformat_minor": 2
}
